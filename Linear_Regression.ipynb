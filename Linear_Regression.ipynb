{
  "nbformat": 4,
  "nbformat_minor": 0,
  "metadata": {
    "colab": {
      "provenance": []
    },
    "kernelspec": {
      "name": "python3",
      "display_name": "Python 3"
    },
    "language_info": {
      "name": "python"
    }
  },
  "cells": [
    {
      "cell_type": "markdown",
      "source": [
        "Linear Regression and Gradient Descent using basic pytorch operations"
      ],
      "metadata": {
        "id": "818YLiOddLEw"
      }
    },
    {
      "cell_type": "code",
      "execution_count": 2,
      "metadata": {
        "id": "LGiymxaDhpCF"
      },
      "outputs": [],
      "source": [
        "import numpy as np\n",
        "import torch"
      ]
    },
    {
      "cell_type": "code",
      "source": [
        "inputs=np.array([[73, 67, 43],\n",
        "                 [91, 88, 64],\n",
        "                 [87, 134, 58],\n",
        "                 [102, 43, 37],\n",
        "                 [69, 96, 70.]], dtype='float32')"
      ],
      "metadata": {
        "id": "S0CG4XnOj6It"
      },
      "execution_count": 3,
      "outputs": []
    },
    {
      "cell_type": "code",
      "source": [
        "targets=np.array([[56, 70],\n",
        "                  [81, 101],\n",
        "                  [119, 133],\n",
        "                  [22, 37],\n",
        "                  [103, 119]], dtype='float32')"
      ],
      "metadata": {
        "id": "MCGHJBk4kc4h"
      },
      "execution_count": 4,
      "outputs": []
    },
    {
      "cell_type": "markdown",
      "source": [
        "convert array into pytorch tensors"
      ],
      "metadata": {
        "id": "UWY-HnFllEYn"
      }
    },
    {
      "cell_type": "code",
      "source": [
        "inputs=torch.from_numpy(inputs)\n",
        "targets=torch.from_numpy(targets)\n",
        "print(targets)\n",
        "print(inputs)"
      ],
      "metadata": {
        "colab": {
          "base_uri": "https://localhost:8080/"
        },
        "id": "aeZOnF8QksoI",
        "outputId": "ba4ec946-446f-43f8-e1de-3b4025ec693d"
      },
      "execution_count": 5,
      "outputs": [
        {
          "output_type": "stream",
          "name": "stdout",
          "text": [
            "tensor([[ 56.,  70.],\n",
            "        [ 81., 101.],\n",
            "        [119., 133.],\n",
            "        [ 22.,  37.],\n",
            "        [103., 119.]])\n",
            "tensor([[ 73.,  67.,  43.],\n",
            "        [ 91.,  88.,  64.],\n",
            "        [ 87., 134.,  58.],\n",
            "        [102.,  43.,  37.],\n",
            "        [ 69.,  96.,  70.]])\n"
          ]
        }
      ]
    },
    {
      "cell_type": "markdown",
      "source": [
        "Linear Regression Model"
      ],
      "metadata": {
        "id": "CXo68NkMlmyl"
      }
    },
    {
      "cell_type": "code",
      "source": [
        "w=torch.randn(2,3, requires_grad=True)\n",
        "b=torch.randn(2, requires_grad=True)\n",
        "print(w)\n",
        "print(b)"
      ],
      "metadata": {
        "colab": {
          "base_uri": "https://localhost:8080/"
        },
        "id": "1RsqjbsslY-6",
        "outputId": "7b13d2e1-f87b-4ee3-8b8a-d0389747499d"
      },
      "execution_count": 6,
      "outputs": [
        {
          "output_type": "stream",
          "name": "stdout",
          "text": [
            "tensor([[ 0.7042, -1.5674, -0.3579],\n",
            "        [ 1.7298, -1.3018,  1.2664]], requires_grad=True)\n",
            "tensor([-0.9878,  0.1373], requires_grad=True)\n"
          ]
        }
      ]
    },
    {
      "cell_type": "markdown",
      "source": [
        "randon weights"
      ],
      "metadata": {
        "id": "XA9z5F-z0qyr"
      }
    },
    {
      "cell_type": "code",
      "source": [
        "def model(x):\n",
        "  return x @ w.t()+b"
      ],
      "metadata": {
        "id": "n4nkxZP8mAsv"
      },
      "execution_count": 7,
      "outputs": []
    },
    {
      "cell_type": "markdown",
      "source": [
        "@ means matrix multiplication and t() defines the transpose"
      ],
      "metadata": {
        "id": "L39I9XKnyqfe"
      }
    },
    {
      "cell_type": "code",
      "source": [
        "preds=model(inputs)\n",
        "print(preds)"
      ],
      "metadata": {
        "colab": {
          "base_uri": "https://localhost:8080/"
        },
        "id": "ysANUEtwyx-X",
        "outputId": "d072684d-525e-4aac-ef6c-cef960a9ff8b"
      },
      "execution_count": 8,
      "outputs": [
        {
          "output_type": "stream",
          "name": "stdout",
          "text": [
            "tensor([[ -69.9865,   93.6475],\n",
            "        [ -97.7417,  124.0402],\n",
            "        [-170.5096,   49.6385],\n",
            "        [  -9.8022,  167.4584],\n",
            "        [-127.9193,   83.1674]], grad_fn=<AddBackward0>)\n"
          ]
        }
      ]
    },
    {
      "cell_type": "markdown",
      "source": [
        "these are the predicted values"
      ],
      "metadata": {
        "id": "iiW_Kx4v038k"
      }
    },
    {
      "cell_type": "code",
      "source": [
        " print(targets)"
      ],
      "metadata": {
        "colab": {
          "base_uri": "https://localhost:8080/"
        },
        "id": "dEZ1iAuHzBXX",
        "outputId": "32c78c0c-25ef-48d3-c201-fb1f9084c156"
      },
      "execution_count": 9,
      "outputs": [
        {
          "output_type": "stream",
          "name": "stdout",
          "text": [
            "tensor([[ 56.,  70.],\n",
            "        [ 81., 101.],\n",
            "        [119., 133.],\n",
            "        [ 22.,  37.],\n",
            "        [103., 119.]])\n"
          ]
        }
      ]
    },
    {
      "cell_type": "code",
      "source": [
        "diff=preds-targets\n"
      ],
      "metadata": {
        "id": "uns_m2VH1Uj7"
      },
      "execution_count": 10,
      "outputs": []
    },
    {
      "cell_type": "code",
      "source": [
        "diff\n",
        "diff.numel()"
      ],
      "metadata": {
        "colab": {
          "base_uri": "https://localhost:8080/"
        },
        "id": "G7DI_ggS1qYp",
        "outputId": "ebeebaa3-4681-42db-9091-99faefe5fac1"
      },
      "execution_count": 11,
      "outputs": [
        {
          "output_type": "execute_result",
          "data": {
            "text/plain": [
              "10"
            ]
          },
          "metadata": {},
          "execution_count": 11
        }
      ]
    },
    {
      "cell_type": "code",
      "source": [
        "torch.sum(diff*diff)"
      ],
      "metadata": {
        "colab": {
          "base_uri": "https://localhost:8080/"
        },
        "id": "HJWHMa_y1UKD",
        "outputId": "eff5cb65-521f-42bc-88a1-09a77b3c7b32"
      },
      "execution_count": 12,
      "outputs": [
        {
          "output_type": "execute_result",
          "data": {
            "text/plain": [
              "tensor(212314.6250, grad_fn=<SumBackward0>)"
            ]
          },
          "metadata": {},
          "execution_count": 12
        }
      ]
    },
    {
      "cell_type": "markdown",
      "source": [
        "Loss function"
      ],
      "metadata": {
        "id": "7i8uRgpy074y"
      }
    },
    {
      "cell_type": "code",
      "source": [
        "def mse(t1, t2):\n",
        "  diff=t1-t2\n",
        "  return torch.sum(diff*diff)/diff.numel()\n"
      ],
      "metadata": {
        "id": "85B7bkp20xGq"
      },
      "execution_count": 13,
      "outputs": []
    },
    {
      "cell_type": "code",
      "source": [
        "loss=mse(preds, targets)\n",
        "print(loss)"
      ],
      "metadata": {
        "colab": {
          "base_uri": "https://localhost:8080/"
        },
        "id": "Doz5Flkx2NB0",
        "outputId": "acc73f6b-05e8-4874-ba65-a047c8438850"
      },
      "execution_count": 14,
      "outputs": [
        {
          "output_type": "stream",
          "name": "stdout",
          "text": [
            "tensor(21231.4629, grad_fn=<DivBackward0>)\n"
          ]
        }
      ]
    },
    {
      "cell_type": "markdown",
      "source": [
        "52.561 is error between actual and predicted"
      ],
      "metadata": {
        "id": "7tLhugPo2yE0"
      }
    },
    {
      "cell_type": "markdown",
      "source": [
        "compute Gradients"
      ],
      "metadata": {
        "id": "rol79rIk3rmj"
      }
    },
    {
      "cell_type": "code",
      "source": [
        "loss.backward()"
      ],
      "metadata": {
        "id": "m4ppQjqB2bGU"
      },
      "execution_count": 15,
      "outputs": []
    },
    {
      "cell_type": "code",
      "source": [
        "print(w)\n",
        "print(w.grad)"
      ],
      "metadata": {
        "colab": {
          "base_uri": "https://localhost:8080/"
        },
        "id": "HaNQJgkE3zDH",
        "outputId": "e8120468-cdad-4c02-a407-009ec2515eaa"
      },
      "execution_count": 16,
      "outputs": [
        {
          "output_type": "stream",
          "name": "stdout",
          "text": [
            "tensor([[ 0.7042, -1.5674, -0.3579],\n",
            "        [ 1.7298, -1.3018,  1.2664]], requires_grad=True)\n",
            "tensor([[-1.3965e+04, -1.7300e+04, -1.0198e+04],\n",
            "        [ 1.4810e+03, -1.0777e+03, -4.9734e+00]])\n"
          ]
        }
      ]
    },
    {
      "cell_type": "code",
      "source": [
        "print(b)\n",
        "print(b.grad)"
      ],
      "metadata": {
        "colab": {
          "base_uri": "https://localhost:8080/"
        },
        "id": "VBrGK8LO3-D_",
        "outputId": "9b5c20bf-922a-41c2-f95d-e9f6fb95206d"
      },
      "execution_count": 17,
      "outputs": [
        {
          "output_type": "stream",
          "name": "stdout",
          "text": [
            "tensor([-0.9878,  0.1373], requires_grad=True)\n",
            "tensor([-171.3918,   11.5904])\n"
          ]
        }
      ]
    },
    {
      "cell_type": "markdown",
      "source": [
        "if gradient element is positive\n",
        "increasing the weight element's value slightly will increase the loss\n",
        "decreasing the weight element's value slightly will decrease the loss"
      ],
      "metadata": {
        "id": "6b6kPSgu5ahR"
      }
    },
    {
      "cell_type": "markdown",
      "source": [
        "If a gradient element is negative\n",
        "increasing the weight element's value slightly will decrease the loss\n",
        "decreasing the weight element's value slightly will increase the loss"
      ],
      "metadata": {
        "id": "GR-XuCNS5n0r"
      }
    },
    {
      "cell_type": "markdown",
      "source": [
        "Adjusting weights and bias"
      ],
      "metadata": {
        "id": "Pan8tt_cYVA3"
      }
    },
    {
      "cell_type": "code",
      "source": [
        "with torch.no_grad():\n",
        "  w-=w.grad*1e-5\n",
        "  b-=b.grad*1e-5\n",
        "##multiplying ensures that weights do not differ by large value which is learning rate\n",
        "##torch.no_grad to indicate to PyTorch that we shouldn't track, calculate, or modify gradients while updating the weights and biases."
      ],
      "metadata": {
        "id": "Asuc2N8R4KAd"
      },
      "execution_count": 19,
      "outputs": []
    },
    {
      "cell_type": "code",
      "source": [
        "##we reset the gradients to zero by invoking the .zero_() method. We need to do this because PyTorch accumulates gradients. Otherwise, the next time we invoke .backward on the loss, the new gradient values are added to the existing gradients, which may lead to unexpected results.\n",
        "w.grad.zero_()\n",
        "b.grad.zero_()\n",
        "print(w.grad)\n",
        "print(b.grad)"
      ],
      "metadata": {
        "colab": {
          "base_uri": "https://localhost:8080/"
        },
        "id": "k9jcQEcaWSiR",
        "outputId": "bc38bcbf-8d3b-4bae-b020-2bcdd588a3d0"
      },
      "execution_count": 21,
      "outputs": [
        {
          "output_type": "stream",
          "name": "stdout",
          "text": [
            "tensor([[0., 0., 0.],\n",
            "        [0., 0., 0.]])\n",
            "tensor([0., 0.])\n"
          ]
        }
      ]
    },
    {
      "cell_type": "code",
      "source": [
        "print(w, b)"
      ],
      "metadata": {
        "colab": {
          "base_uri": "https://localhost:8080/"
        },
        "id": "Ktb0E9noaMkC",
        "outputId": "93803ff8-d649-420a-bc10-024b01b38cc0"
      },
      "execution_count": 25,
      "outputs": [
        {
          "output_type": "stream",
          "name": "stdout",
          "text": [
            "tensor([[ 0.9835, -1.2214, -0.1539],\n",
            "        [ 1.7002, -1.2803,  1.2665]], requires_grad=True) tensor([-0.9844,  0.1371], requires_grad=True)\n"
          ]
        }
      ]
    },
    {
      "cell_type": "markdown",
      "source": [
        "Train the model using Gradient Descent"
      ],
      "metadata": {
        "id": "xRLm_AffYfXj"
      }
    },
    {
      "cell_type": "code",
      "source": [
        "preds=model(inputs)\n",
        "print(preds)"
      ],
      "metadata": {
        "colab": {
          "base_uri": "https://localhost:8080/"
        },
        "id": "tWG9WlvkXcG4",
        "outputId": "fa73ab36-343d-4b5a-f1d0-4f29fda5b33f"
      },
      "execution_count": 22,
      "outputs": [
        {
          "output_type": "stream",
          "name": "stdout",
          "text": [
            "tensor([[-17.6413,  92.9335],\n",
            "        [-28.8198, 123.2478],\n",
            "        [-88.0126,  49.9555],\n",
            "        [ 41.1152, 165.3676],\n",
            "        [-61.1503,  83.1997]], grad_fn=<AddBackward0>)\n"
          ]
        }
      ]
    },
    {
      "cell_type": "code",
      "source": [
        "loss=mse(preds, targets)\n",
        "print(loss)"
      ],
      "metadata": {
        "colab": {
          "base_uri": "https://localhost:8080/"
        },
        "id": "5ritYG7PYJ1L",
        "outputId": "cae98926-62fe-4cd6-96de-82511fd0eafa"
      },
      "execution_count": 23,
      "outputs": [
        {
          "output_type": "stream",
          "name": "stdout",
          "text": [
            "tensor(11332.5527, grad_fn=<DivBackward0>)\n"
          ]
        }
      ]
    },
    {
      "cell_type": "markdown",
      "source": [
        "Train multiple multiple epochs"
      ],
      "metadata": {
        "id": "M2NtZUAdbQW4"
      }
    },
    {
      "cell_type": "markdown",
      "source": [
        "the process of adjusting the weights and bias using gradients multiple time and each iteration is called epochs"
      ],
      "metadata": {
        "id": "0FpmIMsSbaKq"
      }
    },
    {
      "cell_type": "code",
      "source": [
        "for i in range(500):\n",
        "  preds=model(inputs)\n",
        "  loss=mse(preds, targets)\n",
        "  loss.backward()\n",
        "  with torch.no_grad():\n",
        "    w-=w.grad*1e-5\n",
        "    b-=b.grad*1e-5\n",
        "    w.grad.zero_()\n",
        "    b.grad.zero_()"
      ],
      "metadata": {
        "id": "WNjysfAWbNtW"
      },
      "execution_count": 31,
      "outputs": []
    },
    {
      "cell_type": "code",
      "source": [
        "preds=model(inputs)\n",
        "loss=mse(preds, targets)\n",
        "print(loss)"
      ],
      "metadata": {
        "colab": {
          "base_uri": "https://localhost:8080/"
        },
        "id": "hnqthDmAcQz5",
        "outputId": "0ae7107b-0008-41e3-b85b-64f76d690931"
      },
      "execution_count": 32,
      "outputs": [
        {
          "output_type": "stream",
          "name": "stdout",
          "text": [
            "tensor(5.9635, grad_fn=<DivBackward0>)\n"
          ]
        }
      ]
    },
    {
      "cell_type": "code",
      "source": [
        "preds"
      ],
      "metadata": {
        "colab": {
          "base_uri": "https://localhost:8080/"
        },
        "id": "PaWLJliaceTT",
        "outputId": "e4257b40-f0c6-47b7-f3f4-edea496e1cf0"
      },
      "execution_count": 33,
      "outputs": [
        {
          "output_type": "execute_result",
          "data": {
            "text/plain": [
              "tensor([[ 57.2448,  70.2242],\n",
              "        [ 81.3412, 102.8011],\n",
              "        [120.5308, 128.2489],\n",
              "        [ 22.4152,  36.6258],\n",
              "        [ 99.4407, 123.0959]], grad_fn=<AddBackward0>)"
            ]
          },
          "metadata": {},
          "execution_count": 33
        }
      ]
    },
    {
      "cell_type": "code",
      "source": [
        "targets"
      ],
      "metadata": {
        "colab": {
          "base_uri": "https://localhost:8080/"
        },
        "id": "ZNGhw-NWcrGb",
        "outputId": "c9a54733-00b6-4a80-ddc4-deb37cf7e601"
      },
      "execution_count": 34,
      "outputs": [
        {
          "output_type": "execute_result",
          "data": {
            "text/plain": [
              "tensor([[ 56.,  70.],\n",
              "        [ 81., 101.],\n",
              "        [119., 133.],\n",
              "        [ 22.,  37.],\n",
              "        [103., 119.]])"
            ]
          },
          "metadata": {},
          "execution_count": 34
        }
      ]
    },
    {
      "cell_type": "code",
      "source": [],
      "metadata": {
        "id": "kRjjFVrucsYo"
      },
      "execution_count": null,
      "outputs": []
    }
  ]
}