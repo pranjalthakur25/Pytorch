{
  "nbformat": 4,
  "nbformat_minor": 0,
  "metadata": {
    "colab": {
      "provenance": []
    },
    "kernelspec": {
      "name": "python3",
      "display_name": "Python 3"
    },
    "language_info": {
      "name": "python"
    }
  },
  "cells": [
    {
      "cell_type": "markdown",
      "source": [
        "Linear Regression using pytorch builtins\n"
      ],
      "metadata": {
        "id": "VcjSTN2fg6CQ"
      }
    },
    {
      "cell_type": "code",
      "execution_count": 2,
      "metadata": {
        "id": "gCC2TfeheI8J"
      },
      "outputs": [],
      "source": [
        "import torch.nn as nn\n",
        "import numpy as np"
      ]
    },
    {
      "cell_type": "code",
      "source": [
        "# Input (temp, rainfall, humidity)\n",
        "inputs = np.array([[73, 67, 43],\n",
        "                   [91, 88, 64],\n",
        "                   [87, 134, 58],\n",
        "                   [102, 43, 37],\n",
        "                   [69, 96, 70],\n",
        "                   [74, 66, 43],\n",
        "                   [91, 87, 65],\n",
        "                   [88, 134, 59],\n",
        "                   [101, 44, 37],\n",
        "                   [68, 96, 71],\n",
        "                   [73, 66, 44],\n",
        "                   [92, 87, 64],\n",
        "                   [87, 135, 57],\n",
        "                   [103, 43, 36],\n",
        "                   [68, 97, 70]],\n",
        "                  dtype='float32')"
      ],
      "metadata": {
        "id": "hzz6W3h7hH--"
      },
      "execution_count": 3,
      "outputs": []
    },
    {
      "cell_type": "code",
      "source": [
        "# Targets (apples, oranges)\n",
        "targets = np.array([[56, 70],\n",
        "                    [81, 101],\n",
        "                    [119, 133],\n",
        "                    [22, 37],\n",
        "                    [103, 119],\n",
        "                    [57, 69],\n",
        "                    [80, 102],\n",
        "                    [118, 132],\n",
        "                    [21, 38],\n",
        "                    [104, 118],\n",
        "                    [57, 69],\n",
        "                    [82, 100],\n",
        "                    [118, 134],\n",
        "                    [20, 38],\n",
        "                    [102, 120]],\n",
        "                   dtype='float32')\n",
        "\n"
      ],
      "metadata": {
        "id": "GxUqSus3h43o"
      },
      "execution_count": 5,
      "outputs": []
    },
    {
      "cell_type": "code",
      "source": [
        "import torch\n",
        "inputs = torch.from_numpy(inputs)\n",
        "targets = torch.from_numpy(targets)"
      ],
      "metadata": {
        "id": "ksToj3_7jcp6"
      },
      "execution_count": 11,
      "outputs": []
    },
    {
      "cell_type": "markdown",
      "source": [
        "Dataset and DataLoader"
      ],
      "metadata": {
        "id": "4mxhrEkCi1lm"
      }
    },
    {
      "cell_type": "code",
      "source": [
        "##We'll create a TensorDataset, which allows access to rows from inputs and targets as tuples, and provides standard APIs for working with many different types of datasets in PyTorch.\n",
        "from torch.utils.data import TensorDataset"
      ],
      "metadata": {
        "id": "pzrNTz81iKiu"
      },
      "execution_count": 7,
      "outputs": []
    },
    {
      "cell_type": "code",
      "source": [
        "##dataset\n",
        "train_ds=TensorDataset(inputs, targets)\n",
        "train_ds[0:3]\n"
      ],
      "metadata": {
        "colab": {
          "base_uri": "https://localhost:8080/"
        },
        "id": "2O04imWuirDT",
        "outputId": "d9535c2b-6e0e-4447-a1e0-8ccfc328984d"
      },
      "execution_count": 12,
      "outputs": [
        {
          "output_type": "execute_result",
          "data": {
            "text/plain": [
              "(tensor([[ 73.,  67.,  43.],\n",
              "         [ 91.,  88.,  64.],\n",
              "         [ 87., 134.,  58.]]),\n",
              " tensor([[ 56.,  70.],\n",
              "         [ 81., 101.],\n",
              "         [119., 133.]]))"
            ]
          },
          "metadata": {},
          "execution_count": 12
        }
      ]
    },
    {
      "cell_type": "markdown",
      "source": [
        "The TensorDataset allows us to access a small section of the training data using the array indexing notation ([0:3] in the above code). It returns a tuple with two elements. The first element contains the input variables for the selected rows, and the second contains the targets."
      ],
      "metadata": {
        "id": "rpC2-c5ljPMY"
      }
    },
    {
      "cell_type": "markdown",
      "source": [
        "We'll also create a DataLoader, which can split the data into batches of a predefined size while training. It also provides other utilities like shuffling and random sampling of the data."
      ],
      "metadata": {
        "id": "gTXP3t0cjul6"
      }
    },
    {
      "cell_type": "code",
      "source": [
        "from torch.utils.data import DataLoader"
      ],
      "metadata": {
        "id": "jbA2es3djAVT"
      },
      "execution_count": 13,
      "outputs": []
    },
    {
      "cell_type": "code",
      "source": [
        "batch_size=5\n",
        "train_dl=DataLoader(train_ds, batch_size, shuffle=True)"
      ],
      "metadata": {
        "id": "zKr4HaAZj6GP"
      },
      "execution_count": 14,
      "outputs": []
    },
    {
      "cell_type": "code",
      "source": [
        "inputs"
      ],
      "metadata": {
        "colab": {
          "base_uri": "https://localhost:8080/"
        },
        "id": "U1_zXf7TkIXC",
        "outputId": "4caebb01-6e48-44c7-cf75-7ebe49671a3f"
      },
      "execution_count": 15,
      "outputs": [
        {
          "output_type": "execute_result",
          "data": {
            "text/plain": [
              "tensor([[ 73.,  67.,  43.],\n",
              "        [ 91.,  88.,  64.],\n",
              "        [ 87., 134.,  58.],\n",
              "        [102.,  43.,  37.],\n",
              "        [ 69.,  96.,  70.],\n",
              "        [ 74.,  66.,  43.],\n",
              "        [ 91.,  87.,  65.],\n",
              "        [ 88., 134.,  59.],\n",
              "        [101.,  44.,  37.],\n",
              "        [ 68.,  96.,  71.],\n",
              "        [ 73.,  66.,  44.],\n",
              "        [ 92.,  87.,  64.],\n",
              "        [ 87., 135.,  57.],\n",
              "        [103.,  43.,  36.],\n",
              "        [ 68.,  97.,  70.]])"
            ]
          },
          "metadata": {},
          "execution_count": 15
        }
      ]
    },
    {
      "cell_type": "markdown",
      "source": [
        "In each iteration, the data loader returns one batch of data with the given batch size. If shuffle is set to True, it shuffles the training data before creating batches. Shuffling helps randomize the input to the optimization algorithm, leading to a faster reduction in the loss."
      ],
      "metadata": {
        "id": "OM0b8JOalsRa"
      }
    },
    {
      "cell_type": "code",
      "source": [
        "##xb=batch of inputs\n",
        "##yb batch of iutputs or targets\n",
        "for xb, yb in train_dl:\n",
        "  print(xb)\n",
        "  print(yb)\n",
        "  break"
      ],
      "metadata": {
        "colab": {
          "base_uri": "https://localhost:8080/"
        },
        "id": "SgYCJZFxkLmO",
        "outputId": "4fdf81ee-ea01-432c-989c-9d5e0d68fbf6"
      },
      "execution_count": 16,
      "outputs": [
        {
          "output_type": "stream",
          "name": "stdout",
          "text": [
            "tensor([[ 88., 134.,  59.],\n",
            "        [ 74.,  66.,  43.],\n",
            "        [101.,  44.,  37.],\n",
            "        [ 91.,  88.,  64.],\n",
            "        [ 87., 135.,  57.]])\n",
            "tensor([[118., 132.],\n",
            "        [ 57.,  69.],\n",
            "        [ 21.,  38.],\n",
            "        [ 81., 101.],\n",
            "        [118., 134.]])\n"
          ]
        }
      ]
    },
    {
      "cell_type": "markdown",
      "source": [
        "Instead of initializing the weights & biases manually, we can define the model using the nn.Linear class from PyTorch, which does it automatically."
      ],
      "metadata": {
        "id": "wESswrgElu5k"
      }
    },
    {
      "cell_type": "code",
      "source": [
        "## 3 is number of inputs and 2 is number of ouutputs\n",
        "model=nn.Linear(3, 2)\n",
        "print(model.weight)\n",
        "print(model.bias)"
      ],
      "metadata": {
        "colab": {
          "base_uri": "https://localhost:8080/"
        },
        "id": "dAGVZ2sxkj-9",
        "outputId": "a1612bf2-525f-4e0c-960f-3f11ecf1d26e"
      },
      "execution_count": 17,
      "outputs": [
        {
          "output_type": "stream",
          "name": "stdout",
          "text": [
            "Parameter containing:\n",
            "tensor([[ 0.0020, -0.1028,  0.2266],\n",
            "        [-0.1172, -0.5666, -0.0608]], requires_grad=True)\n",
            "Parameter containing:\n",
            "tensor([-0.0239,  0.4980], requires_grad=True)\n"
          ]
        }
      ]
    },
    {
      "cell_type": "markdown",
      "source": [
        "PyTorch models also have a helpful .parameters method, which returns a list containing all the weights and bias matrices present in the model. For our linear regression model, we have one weight matrix and one bias matrix"
      ],
      "metadata": {
        "id": "5Eo-87gylyGu"
      }
    },
    {
      "cell_type": "code",
      "source": [
        "list(model.parameters())"
      ],
      "metadata": {
        "colab": {
          "base_uri": "https://localhost:8080/"
        },
        "id": "ka7LJGOflXk6",
        "outputId": "35a2cecc-4060-4ae4-9d3f-5daf49a9039f"
      },
      "execution_count": 19,
      "outputs": [
        {
          "output_type": "execute_result",
          "data": {
            "text/plain": [
              "[Parameter containing:\n",
              " tensor([[ 0.0020, -0.1028,  0.2266],\n",
              "         [-0.1172, -0.5666, -0.0608]], requires_grad=True),\n",
              " Parameter containing:\n",
              " tensor([-0.0239,  0.4980], requires_grad=True)]"
            ]
          },
          "metadata": {},
          "execution_count": 19
        }
      ]
    },
    {
      "cell_type": "code",
      "source": [
        "preds=model(inputs)"
      ],
      "metadata": {
        "id": "o24lLLyGlkFm"
      },
      "execution_count": 20,
      "outputs": []
    },
    {
      "cell_type": "code",
      "source": [
        "preds"
      ],
      "metadata": {
        "colab": {
          "base_uri": "https://localhost:8080/"
        },
        "id": "0K3zHKG4l4b9",
        "outputId": "d4a9b7e1-88f6-4e02-b50b-82ce69b549b6"
      },
      "execution_count": 21,
      "outputs": [
        {
          "output_type": "execute_result",
          "data": {
            "text/plain": [
              "tensor([[  2.9784, -48.6326],\n",
              "        [  5.6144, -63.9170],\n",
              "        [ -0.4823, -89.1469],\n",
              "        [  4.1440, -38.0682],\n",
              "        [  6.1077, -66.2363],\n",
              "        [  3.0832, -48.1832],\n",
              "        [  5.9438, -63.4112],\n",
              "        [ -0.2537, -89.3249],\n",
              "        [  4.0392, -38.5176],\n",
              "        [  6.3323, -66.1799],\n",
              "        [  3.3078, -48.1268],\n",
              "        [  5.7192, -63.4676],\n",
              "        [ -0.8118, -89.6527],\n",
              "        [  3.9194, -38.1246],\n",
              "        [  6.0029, -66.6857]], grad_fn=<AddmmBackward0>)"
            ]
          },
          "metadata": {},
          "execution_count": 21
        }
      ]
    },
    {
      "cell_type": "code",
      "source": [
        "targets"
      ],
      "metadata": {
        "colab": {
          "base_uri": "https://localhost:8080/"
        },
        "id": "u9DpDO34l59-",
        "outputId": "cf633871-b46d-465f-8e7d-3e36b184c966"
      },
      "execution_count": 22,
      "outputs": [
        {
          "output_type": "execute_result",
          "data": {
            "text/plain": [
              "tensor([[ 56.,  70.],\n",
              "        [ 81., 101.],\n",
              "        [119., 133.],\n",
              "        [ 22.,  37.],\n",
              "        [103., 119.],\n",
              "        [ 57.,  69.],\n",
              "        [ 80., 102.],\n",
              "        [118., 132.],\n",
              "        [ 21.,  38.],\n",
              "        [104., 118.],\n",
              "        [ 57.,  69.],\n",
              "        [ 82., 100.],\n",
              "        [118., 134.],\n",
              "        [ 20.,  38.],\n",
              "        [102., 120.]])"
            ]
          },
          "metadata": {},
          "execution_count": 22
        }
      ]
    },
    {
      "cell_type": "code",
      "source": [
        "import torch.nn.functional as F"
      ],
      "metadata": {
        "id": "X8JzbYIXl-DR"
      },
      "execution_count": 23,
      "outputs": []
    },
    {
      "cell_type": "code",
      "source": [
        "loss_fn=F.mse_loss"
      ],
      "metadata": {
        "id": "rEeO2JhgmINR"
      },
      "execution_count": 24,
      "outputs": []
    },
    {
      "cell_type": "code",
      "source": [
        "loss=loss_fn(model(inputs), targets)\n",
        "print(loss)"
      ],
      "metadata": {
        "colab": {
          "base_uri": "https://localhost:8080/"
        },
        "id": "Tdw_JT6jmNlp",
        "outputId": "b0c1280f-9f5d-40da-8350-7f3a3460e44d"
      },
      "execution_count": 25,
      "outputs": [
        {
          "output_type": "stream",
          "name": "stdout",
          "text": [
            "tensor(16283.3789, grad_fn=<MseLossBackward0>)\n"
          ]
        }
      ]
    },
    {
      "cell_type": "code",
      "source": [
        " opt=torch.optim.SGD(model.parameters(), lr=1e-5)\n",
        " #stochastisc gradient descent as data is selected in random batch"
      ],
      "metadata": {
        "id": "BEwCoGPSmUE9"
      },
      "execution_count": 27,
      "outputs": []
    },
    {
      "cell_type": "code",
      "source": [
        "def fit(num_epochs, model, loss_fn, opt, train_dl):\n",
        "  for epoch in range(num_epochs):\n",
        "    #train with batches\n",
        "    for xb, yb in train_dl:\n",
        "      #generate predictions\n",
        "      pred=model(xb)\n",
        "      #calculate loss\n",
        "      loss=loss_fn(pred, yb)\n",
        "      # compute gradients\n",
        "      loss.backward()\n",
        "      #update parameters using gradients\n",
        "      opt.step()\n",
        "      #repeate gradient to zero\n",
        "      opt.zero_grad()\n",
        "    if(epoch+1)%10==0:\n",
        "      print('Epoch [{}/{}], Loss: {:.4f}'.format(epoch+1, num_epochs, loss.item()))"
      ],
      "metadata": {
        "id": "XsKKGZAJm-Bw"
      },
      "execution_count": 29,
      "outputs": []
    },
    {
      "cell_type": "code",
      "source": [
        "fit(100, model, loss_fn, opt, train_dl)"
      ],
      "metadata": {
        "colab": {
          "base_uri": "https://localhost:8080/"
        },
        "id": "P6wg-Vs_ojHV",
        "outputId": "f81da4b1-7f4c-4a7d-e383-33a1f6ed1f9d"
      },
      "execution_count": 30,
      "outputs": [
        {
          "output_type": "stream",
          "name": "stdout",
          "text": [
            "Epoch [10/100], Loss: 291.9304\n",
            "Epoch [20/100], Loss: 292.7029\n",
            "Epoch [30/100], Loss: 199.9381\n",
            "Epoch [40/100], Loss: 184.2863\n",
            "Epoch [50/100], Loss: 99.1861\n",
            "Epoch [60/100], Loss: 71.5500\n",
            "Epoch [70/100], Loss: 78.5750\n",
            "Epoch [80/100], Loss: 27.9972\n",
            "Epoch [90/100], Loss: 44.2457\n",
            "Epoch [100/100], Loss: 16.8910\n"
          ]
        }
      ]
    },
    {
      "cell_type": "code",
      "source": [
        "# Generate predictions\n",
        "preds = model(inputs)\n",
        "preds"
      ],
      "metadata": {
        "colab": {
          "base_uri": "https://localhost:8080/"
        },
        "id": "RSBjROd7pQEM",
        "outputId": "b6523ce6-3ac8-4a9e-801a-3b8e155e6dc9"
      },
      "execution_count": 31,
      "outputs": [
        {
          "output_type": "execute_result",
          "data": {
            "text/plain": [
              "tensor([[ 58.2482,  71.9949],\n",
              "        [ 82.1374,  99.4412],\n",
              "        [116.5926, 133.0208],\n",
              "        [ 27.7298,  46.1063],\n",
              "        [ 97.9526, 111.7954],\n",
              "        [ 57.1761,  71.0886],\n",
              "        [ 81.9087,  99.2424],\n",
              "        [116.8914, 133.5135],\n",
              "        [ 28.8019,  47.0126],\n",
              "        [ 98.7959, 112.5029],\n",
              "        [ 58.0195,  71.7961],\n",
              "        [ 81.0653,  98.5349],\n",
              "        [116.8213, 133.2197],\n",
              "        [ 26.8864,  45.3988],\n",
              "        [ 99.0247, 112.7017]], grad_fn=<AddmmBackward0>)"
            ]
          },
          "metadata": {},
          "execution_count": 31
        }
      ]
    },
    {
      "cell_type": "code",
      "source": [
        "targets"
      ],
      "metadata": {
        "colab": {
          "base_uri": "https://localhost:8080/"
        },
        "id": "WiDmckSopVZx",
        "outputId": "c329b9ca-0e8f-43b1-a0db-dd81300800a4"
      },
      "execution_count": 32,
      "outputs": [
        {
          "output_type": "execute_result",
          "data": {
            "text/plain": [
              "tensor([[ 56.,  70.],\n",
              "        [ 81., 101.],\n",
              "        [119., 133.],\n",
              "        [ 22.,  37.],\n",
              "        [103., 119.],\n",
              "        [ 57.,  69.],\n",
              "        [ 80., 102.],\n",
              "        [118., 132.],\n",
              "        [ 21.,  38.],\n",
              "        [104., 118.],\n",
              "        [ 57.,  69.],\n",
              "        [ 82., 100.],\n",
              "        [118., 134.],\n",
              "        [ 20.,  38.],\n",
              "        [102., 120.]])"
            ]
          },
          "metadata": {},
          "execution_count": 32
        }
      ]
    },
    {
      "cell_type": "markdown",
      "source": [
        "We can use it to make predictions of crop yields for new regions by passing a batch containing a single row of input."
      ],
      "metadata": {
        "id": "kIZ7eEVRpgiV"
      }
    },
    {
      "cell_type": "code",
      "source": [
        "model(torch.tensor([[75, 63, 44.]]))"
      ],
      "metadata": {
        "colab": {
          "base_uri": "https://localhost:8080/"
        },
        "id": "sy2lgT8qpY0U",
        "outputId": "c0b9611f-9f64-4a4d-97ad-fda9ede14327"
      },
      "execution_count": 33,
      "outputs": [
        {
          "output_type": "execute_result",
          "data": {
            "text/plain": [
              "tensor([[55.0754, 69.1845]], grad_fn=<AddmmBackward0>)"
            ]
          },
          "metadata": {},
          "execution_count": 33
        }
      ]
    },
    {
      "cell_type": "code",
      "source": [],
      "metadata": {
        "id": "7uThIirRpird"
      },
      "execution_count": null,
      "outputs": []
    }
  ]
}